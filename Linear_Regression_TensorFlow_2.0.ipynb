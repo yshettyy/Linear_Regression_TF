{
 "cells": [
  {
   "cell_type": "code",
   "execution_count": 1,
   "metadata": {},
   "outputs": [
    {
     "name": "stderr",
     "output_type": "stream",
     "text": [
      "'rm' is not recognized as an internal or external command,\n",
      "operable program or batch file.\n"
     ]
    }
   ],
   "source": [
    "import pandas as pd\n",
    "import matplotlib.pyplot as plt\n",
    "import seaborn as sns\n",
    "import tensorflow as tf\n",
    "import numpy as np\n",
    "import datetime\n",
    "\n",
    "!rm -rf ./logs/\n",
    "%load_ext tensorboard"
   ]
  },
  {
   "cell_type": "code",
   "execution_count": null,
   "metadata": {},
   "outputs": [],
   "source": []
  },
  {
   "cell_type": "code",
   "execution_count": 2,
   "metadata": {},
   "outputs": [
    {
     "name": "stdout",
     "output_type": "stream",
     "text": [
      "2.0.0-rc1\n"
     ]
    }
   ],
   "source": [
    " print(tf.__version__)"
   ]
  },
  {
   "cell_type": "code",
   "execution_count": 3,
   "metadata": {},
   "outputs": [],
   "source": [
    "df = pd.read_csv(\"./car.csv\")"
   ]
  },
  {
   "cell_type": "code",
   "execution_count": 4,
   "metadata": {},
   "outputs": [
    {
     "data": {
      "text/html": [
       "<div>\n",
       "<style scoped>\n",
       "    .dataframe tbody tr th:only-of-type {\n",
       "        vertical-align: middle;\n",
       "    }\n",
       "\n",
       "    .dataframe tbody tr th {\n",
       "        vertical-align: top;\n",
       "    }\n",
       "\n",
       "    .dataframe thead th {\n",
       "        text-align: right;\n",
       "    }\n",
       "</style>\n",
       "<table border=\"1\" class=\"dataframe\">\n",
       "  <thead>\n",
       "    <tr style=\"text-align: right;\">\n",
       "      <th></th>\n",
       "      <th>Engine HP</th>\n",
       "      <th>MSRP</th>\n",
       "    </tr>\n",
       "  </thead>\n",
       "  <tbody>\n",
       "    <tr>\n",
       "      <th>0</th>\n",
       "      <td>335.0</td>\n",
       "      <td>46135</td>\n",
       "    </tr>\n",
       "    <tr>\n",
       "      <th>1</th>\n",
       "      <td>300.0</td>\n",
       "      <td>40650</td>\n",
       "    </tr>\n",
       "    <tr>\n",
       "      <th>2</th>\n",
       "      <td>300.0</td>\n",
       "      <td>36350</td>\n",
       "    </tr>\n",
       "    <tr>\n",
       "      <th>3</th>\n",
       "      <td>230.0</td>\n",
       "      <td>29450</td>\n",
       "    </tr>\n",
       "    <tr>\n",
       "      <th>4</th>\n",
       "      <td>230.0</td>\n",
       "      <td>34500</td>\n",
       "    </tr>\n",
       "  </tbody>\n",
       "</table>\n",
       "</div>"
      ],
      "text/plain": [
       "   Engine HP   MSRP\n",
       "0      335.0  46135\n",
       "1      300.0  40650\n",
       "2      300.0  36350\n",
       "3      230.0  29450\n",
       "4      230.0  34500"
      ]
     },
     "execution_count": 4,
     "metadata": {},
     "output_type": "execute_result"
    }
   ],
   "source": [
    "dataset= df.copy()\n",
    "dataset = df[['Engine HP', 'MSRP']] \n",
    "dataset.head()"
   ]
  },
  {
   "cell_type": "code",
   "execution_count": 5,
   "metadata": {},
   "outputs": [
    {
     "data": {
      "text/plain": [
       "True"
      ]
     },
     "execution_count": 5,
     "metadata": {},
     "output_type": "execute_result"
    }
   ],
   "source": [
    "dataset.isnull().values.any() #Check whether there is NULL value"
   ]
  },
  {
   "cell_type": "code",
   "execution_count": 6,
   "metadata": {},
   "outputs": [
    {
     "data": {
      "text/plain": [
       "(11914, 2)"
      ]
     },
     "execution_count": 6,
     "metadata": {},
     "output_type": "execute_result"
    }
   ],
   "source": [
    "dataset.shape"
   ]
  },
  {
   "cell_type": "code",
   "execution_count": 7,
   "metadata": {},
   "outputs": [
    {
     "data": {
      "text/plain": [
       "Engine HP    69\n",
       "MSRP          0\n",
       "dtype: int64"
      ]
     },
     "execution_count": 7,
     "metadata": {},
     "output_type": "execute_result"
    }
   ],
   "source": [
    "dataset.isna().sum()"
   ]
  },
  {
   "cell_type": "code",
   "execution_count": 8,
   "metadata": {},
   "outputs": [],
   "source": [
    "dataset = dataset.dropna()  #to drop na values"
   ]
  },
  {
   "cell_type": "code",
   "execution_count": 9,
   "metadata": {},
   "outputs": [
    {
     "data": {
      "text/plain": [
       "<seaborn.axisgrid.PairGrid at 0x1e46b944208>"
      ]
     },
     "execution_count": 9,
     "metadata": {},
     "output_type": "execute_result"
    },
    {
     "data": {
      "image/png": "[encoded data removed]",
      "text/plain": [
       "<Figure size 360x360 with 6 Axes>"
      ]
     },
     "metadata": {
      "needs_background": "light"
     },
     "output_type": "display_data"
    }
   ],
   "source": [
    "sns.pairplot(dataset[['Engine HP', 'MSRP']], diag_kind='kde')"
   ]
  },
  {
   "cell_type": "code",
   "execution_count": 10,
   "metadata": {},
   "outputs": [
    {
     "data": {
      "text/plain": [
       "(11842, 2)"
      ]
     },
     "execution_count": 10,
     "metadata": {},
     "output_type": "execute_result"
    }
   ],
   "source": [
    "dataset = dataset[dataset['Engine HP']<800]   #Removing outliers\n",
    "dataset.shape"
   ]
  },
  {
   "cell_type": "code",
   "execution_count": 11,
   "metadata": {},
   "outputs": [],
   "source": [
    "#Removing outliers using IQR rule\n",
    "def calc_limits(feature):\n",
    "    q1,q3=dataset[feature].quantile([0.25,0.75])\n",
    "    iqr=q3-q1\n",
    "    rang=1.5*iqr\n",
    "    return(q1-rang,q3+rang)\n",
    "for col in dataset.columns:\n",
    "    lower,upper=calc_limits(col)\n",
    "    dataset = dataset[(dataset[col] >lower) & (dataset[col]<upper)]"
   ]
  },
  {
   "cell_type": "code",
   "execution_count": 12,
   "metadata": {},
   "outputs": [],
   "source": [
    "X=dataset['Engine HP'].values\n",
    "Y=dataset['MSRP'].values\n",
    "train_index = np.random.choice(len(X), round(len(X) * 0.7), replace=False) #train-test split\n",
    "test_index = np.array(list(set(range(len(X))) - set(train_index)))\n",
    "x_train = X[train_index]\n",
    "y_train = Y[train_index]\n",
    "x_test = X[test_index]\n",
    "y_test = Y[test_index]"
   ]
  },
  {
   "cell_type": "code",
   "execution_count": 13,
   "metadata": {},
   "outputs": [],
   "source": [
    "#Normalised the dataset\n",
    "def min_max_normalized(data):\n",
    "    col_max = np.max(data, axis=0)\n",
    "    col_min = np.min(data, axis=0)\n",
    "    return np.divide(data - col_min, col_max - col_min)\n",
    "x_train = min_max_normalized(x_train)\n",
    "x_test = min_max_normalized(x_test)\n",
    "y_train = min_max_normalized(y_train)\n",
    "y_test = min_max_normalized(y_test)\n",
    "x_train = tf.constant( x_train , dtype=tf.float32 )\n",
    "y_train = tf.constant( y_train , dtype=tf.float32 ) \n",
    "                                                          \n",
    "x_test = tf.constant( x_test , dtype=tf.float32 ) \n",
    "y_test = tf.constant( y_test , dtype=tf.float32 ) "
   ]
  },
  {
   "cell_type": "code",
   "execution_count": 14,
   "metadata": {},
   "outputs": [],
   "source": [
    "def mean_squared_error( Y , y_pred ):  #loss function\n",
    "    return tf.reduce_mean( tf.square( y_pred - Y ) )\n",
    "\n",
    "def mean_squared_error_deriv( Y , y_pred ):  #optimizer\n",
    "    return tf.reshape( tf.reduce_mean( 2 * ( y_pred - Y ) ) , [ 1 , 1 ] )\n",
    "    \n",
    "def h( X , weights , bias ):  \n",
    "    return tf.add(tf.multiply(weights, X), bias)\n",
    "\n",
    "current_time = datetime.datetime.now().strftime(\"%Y%m%d-%H%M%S\")\n",
    "train_log_dir = 'logs/mean_squared_error_deriv/' + current_time + '/train'\n",
    "train_summary_writer = tf.summary.create_file_writer(train_log_dir)"
   ]
  },
  {
   "cell_type": "code",
   "execution_count": 15,
   "metadata": {},
   "outputs": [],
   "source": [
    "#hyperparameters\n",
    "num_epochs = 1000\n",
    "num_samples = x_train.shape[0]\n",
    "batch_size = 10\n",
    "learning_rate = 0.001\n",
    "\n",
    "dataset = tf.data.Dataset.from_tensor_slices(( x_train , y_train )) \n",
    "dataset = dataset.shuffle( 500 ).repeat( num_epochs ).batch( batch_size )\n",
    "iterator = dataset.__iter__()\n"
   ]
  },
  {
   "cell_type": "code",
   "execution_count": null,
   "metadata": {},
   "outputs": [
    {
     "name": "stdout",
     "output_type": "stream",
     "text": [
      "Loss is 0.030441123992204666\n",
      "Loss is 0.028746554628014565\n",
      "Loss is 0.027618493884801865\n",
      "Loss is 0.026782609522342682\n",
      "Loss is 0.026457998901605606\n",
      "Loss is 0.025964777916669846\n",
      "Loss is 0.02602461539208889\n",
      "Loss is 0.025843489915132523\n",
      "Loss is 0.02583351917564869\n",
      "Loss is 0.02586326003074646\n",
      "Loss is 0.02536211535334587\n",
      "Loss is 0.025723526254296303\n"
     ]
    }
   ],
   "source": [
    "weights = tf.random.normal( ( 1 , 1 ) ) \n",
    "bias = 0\n",
    "for epoch in range( num_epochs ) : \n",
    "    epoch_loss = list()\n",
    "    for i in range( int(num_samples/batch_size) ):\n",
    "        x_batch , y_batch = iterator.get_next()\n",
    "   \n",
    "        output = h( x_batch , weights , bias ) \n",
    "        loss = epoch_loss.append( mean_squared_error( y_batch , output ).numpy() )\n",
    "        loss1 = mean_squared_error( y_batch , output )\n",
    "    \n",
    "        dJ_dH = mean_squared_error_deriv( y_batch , output)\n",
    "        dH_dW = x_batch\n",
    "        dJ_dW = tf.reduce_mean( dJ_dH * dH_dW )\n",
    "        dJ_dB = tf.reduce_mean( dJ_dH )\n",
    "    \n",
    "        weights -= ( learning_rate * dJ_dW )\n",
    "        bias -= ( learning_rate * dJ_dB ) \n",
    "        \n",
    "    with train_summary_writer.as_default():\n",
    "        tf.summary.scalar('loss', loss1, step=epoch)\n",
    "        \n",
    "     \n",
    "        \n",
    "    loss = np.array( epoch_loss ).mean()\n",
    "    if (epoch + 1) % 50 == 0: \n",
    "        print( 'Loss is {}'.format( loss ) )  "
   ]
  },
  {
   "cell_type": "code",
   "execution_count": null,
   "metadata": {},
   "outputs": [],
   "source": [
    "weights.numpy(), bias.numpy()"
   ]
  },
  {
   "cell_type": "code",
   "execution_count": null,
   "metadata": {},
   "outputs": [],
   "source": [
    "y_pred = h( x_test , weights , bias )\n",
    "print('MSE is {}'.format(mean_squared_error( y_test , y_pred )))"
   ]
  },
  {
   "cell_type": "code",
   "execution_count": null,
   "metadata": {},
   "outputs": [],
   "source": [
    "sse = tf.reduce_sum(tf.square(y_test - y_pred))\n",
    "sst = tf.reduce_sum(tf.square(y_test -  tf.reduce_mean(y_test)))\n",
    "r2 = tf.subtract(1.0, tf.math.divide(sse,sst))\n",
    "print(\"R2: {}\" .format(r2))"
   ]
  },
  {
   "cell_type": "code",
   "execution_count": null,
   "metadata": {},
   "outputs": [],
   "source": [
    "%tensorboard --logdir logs/mean_squared_error_deriv/"
   ]
  }
 ],
 "metadata": {
  "kernelspec": {
   "display_name": "Python 3",
   "language": "python",
   "name": "python3"
  },
  "language_info": {
   "codemirror_mode": {
    "name": "ipython",
    "version": 3
   },
   "file_extension": ".py",
   "mimetype": "text/x-python",
   "name": "python",
   "nbconvert_exporter": "python",
   "pygments_lexer": "ipython3",
   "version": "3.7.9"
  }
 },
 "nbformat": 4,
 "nbformat_minor": 4
}
